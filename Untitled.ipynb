{
 "cells": [
  {
   "cell_type": "code",
   "execution_count": 1,
   "id": "07c0aea7-1cf8-416c-ba80-4a8221a66458",
   "metadata": {},
   "outputs": [
    {
     "name": "stdout",
     "output_type": "stream",
     "text": [
      "電子工程系\n",
      "113360132\n",
      "李元盛\n"
     ]
    }
   ],
   "source": [
    "def about_me():\n",
    "    print(\"電子工程系\")\n",
    "    print(113360132)\n",
    "    print(\"李元盛\")\n",
    "\n",
    "about_me()"
   ]
  },
  {
   "cell_type": "code",
   "execution_count": 13,
   "id": "776e3a33-6c52-45d8-8d84-6571f967365c",
   "metadata": {},
   "outputs": [
    {
     "name": "stdin",
     "output_type": "stream",
     "text": [
      "Enter a number of times:  5\n"
     ]
    },
    {
     "name": "stdout",
     "output_type": "stream",
     "text": [
      "Department: 電子工程系\n",
      "Student_ID: 113360132\n",
      "Name: 李元盛\n",
      "Department: 電子工程系\n",
      "Student_ID: 113360132\n",
      "Name: 李元盛\n",
      "Department: 電子工程系\n",
      "Student_ID: 113360132\n",
      "Name: 李元盛\n",
      "Department: 電子工程系\n",
      "Student_ID: 113360132\n",
      "Name: 李元盛\n",
      "Department: 電子工程系\n",
      "Student_ID: 113360132\n",
      "Name: 李元盛\n"
     ]
    }
   ],
   "source": [
    "def about_me2(times=1, department=\"電子工程系\", student_ID=113360132, name=\"李元盛\"):\n",
    "    for _ in range(times):\n",
    "        print(f\"Department: {department}\")\n",
    "        print(f\"Student_ID: {student_ID}\")\n",
    "        print(f\"Name: {name}\")\n",
    "\n",
    "number = int(input(\"Enter a number of times: \"))\n",
    "about_me2(number)"
   ]
  },
  {
   "cell_type": "code",
   "execution_count": 30,
   "id": "be7b77a5-6555-44cd-bf15-425c1223b283",
   "metadata": {},
   "outputs": [
    {
     "name": "stdout",
     "output_type": "stream",
     "text": [
      "Week1: 2024-09-11\n",
      "Week2: 2024-09-18\n",
      "Week3: 2024-09-25\n",
      "Week4: 2024-10-02\n",
      "Week5: 2024-10-09\n",
      "Week6: 2024-10-16\n",
      "Week7: 2024-10-23\n",
      "Week8: 2024-10-30\n",
      "Week9: 2024-11-06\n",
      "Week10: 2024-11-13\n",
      "Week11: 2024-11-20\n",
      "Week12: 2024-11-27\n",
      "Week13: 2024-12-04\n",
      "Week14: 2024-12-11\n",
      "Week15: 2024-12-18\n",
      "Week16: 2024-12-25\n",
      "Week17: 2025-01-01\n",
      "Week18: 2025-01-08\n"
     ]
    }
   ],
   "source": [
    "import datetime\n",
    "\n",
    "now = datetime.datetime.now()\n",
    "start_date = datetime.datetime(2024, 9, 11)\n",
    "num_class = 18\n",
    "week_interval = datetime.timedelta(weeks = 1)\n",
    "\n",
    "for i in range(num_class):\n",
    "    class_date = start_date + i * week_interval\n",
    "    print(f\"Week{i + 1}: {class_date.strftime('%Y-%m-%d')}\")"
   ]
  },
  {
   "cell_type": "code",
   "execution_count": 29,
   "id": "4e71be26-e8fe-4cdb-a376-261b97addc3d",
   "metadata": {},
   "outputs": [
    {
     "name": "stdin",
     "output_type": "stream",
     "text": [
      "Enter your birth date(YYYY-MM-DD):  2003-05-01\n"
     ]
    },
    {
     "name": "stdout",
     "output_type": "stream",
     "text": [
      "The date 2003-05-01 falls on a Thursday.\n"
     ]
    }
   ],
   "source": [
    "from datetime import date\n",
    "\n",
    "birth_date = input(\"Enter your birth date(YYYY-MM-DD): \")\n",
    "year, month, day = map(int, birth_date.split(\"-\"))\n",
    "user_date = date(year, month, day)\n",
    "weekday = user_date.strftime(\"%A\")\n",
    "\n",
    "print(f\"The date {birth_date} falls on a {weekday}.\")"
   ]
  },
  {
   "cell_type": "code",
   "execution_count": null,
   "id": "a5fd64de-2cde-419b-9319-4bcdd1321fcd",
   "metadata": {},
   "outputs": [],
   "source": []
  }
 ],
 "metadata": {
  "kernelspec": {
   "display_name": "Python 3 (ipykernel)",
   "language": "python",
   "name": "python3"
  },
  "language_info": {
   "codemirror_mode": {
    "name": "ipython",
    "version": 3
   },
   "file_extension": ".py",
   "mimetype": "text/x-python",
   "name": "python",
   "nbconvert_exporter": "python",
   "pygments_lexer": "ipython3",
   "version": "3.11.7"
  }
 },
 "nbformat": 4,
 "nbformat_minor": 5
}
